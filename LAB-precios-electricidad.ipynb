{
 "cells": [
  {
   "cell_type": "markdown",
   "metadata": {},
   "source": [
    "Evolución de los Precios de la Electricidad\n",
    "==="
   ]
  },
  {
   "cell_type": "markdown",
   "metadata": {},
   "source": [
    "# Instrucciones"
   ]
  },
  {
   "cell_type": "markdown",
   "metadata": {},
   "source": [
    "En el archivo `precios.zip`  se encuentran los archivos `Precio_Bolsa_Nacional_($kwh)_ano.xls` en formato de Microsoft Excel, los cuales contienen los precios históricos horarios de la electricidad para el mercado eléctrico Colombiano entre los años 1995 y 2017 en COL-PESOS/kWh. A partir de la información suministrada realice las siguientes actividades. "
   ]
  },
  {
   "cell_type": "markdown",
   "metadata": {},
   "source": [
    "**1.--** Lea los archivos y cree una tabla única concatenando la información para cada uno de los años. Debe transformar la tabla de tal forma que quede con las columnas `Fecha`, `Hora` y `Precio` (únicamente tres columnas)."
   ]
  },
  {
   "cell_type": "code",
   "execution_count": 1,
   "metadata": {},
   "outputs": [],
   "source": [
    "## librerias necesarias\n",
    "import pandas as pd\n",
    "import numpy as np\n",
    "import glob\n",
    "import matplotlib.pyplot as plt"
   ]
  },
  {
   "cell_type": "code",
   "execution_count": 2,
   "metadata": {},
   "outputs": [],
   "source": [
    "## lectura de archivos\n",
    "\n",
    "# lista de archivos\n",
    "lista = glob.glob('precios/*xls*')\n",
    "archivos = pd.DataFrame()\n",
    "\n",
    "# lectura en ciclo y concatenacion de dataframes\n",
    "for file in lista:\n",
    "    archivos = pd.concat([archivos,pd.read_excel(file,header=None)],sort=False,ignore_index=True)"
   ]
  },
  {
   "cell_type": "code",
   "execution_count": 3,
   "metadata": {},
   "outputs": [
    {
     "data": {
      "text/html": [
       "<div>\n",
       "<style scoped>\n",
       "    .dataframe tbody tr th:only-of-type {\n",
       "        vertical-align: middle;\n",
       "    }\n",
       "\n",
       "    .dataframe tbody tr th {\n",
       "        vertical-align: top;\n",
       "    }\n",
       "\n",
       "    .dataframe thead th {\n",
       "        text-align: right;\n",
       "    }\n",
       "</style>\n",
       "<table border=\"1\" class=\"dataframe\">\n",
       "  <thead>\n",
       "    <tr style=\"text-align: right;\">\n",
       "      <th></th>\n",
       "      <th>0</th>\n",
       "      <th>1</th>\n",
       "      <th>2</th>\n",
       "      <th>3</th>\n",
       "      <th>4</th>\n",
       "      <th>5</th>\n",
       "      <th>6</th>\n",
       "      <th>7</th>\n",
       "      <th>8</th>\n",
       "      <th>9</th>\n",
       "      <th>...</th>\n",
       "      <th>17</th>\n",
       "      <th>18</th>\n",
       "      <th>19</th>\n",
       "      <th>20</th>\n",
       "      <th>21</th>\n",
       "      <th>22</th>\n",
       "      <th>23</th>\n",
       "      <th>24</th>\n",
       "      <th>25</th>\n",
       "      <th>26</th>\n",
       "    </tr>\n",
       "  </thead>\n",
       "  <tbody>\n",
       "    <tr>\n",
       "      <th>0</th>\n",
       "      <td>NaN</td>\n",
       "      <td>NaN</td>\n",
       "      <td>NaN</td>\n",
       "      <td>NaN</td>\n",
       "      <td>NaN</td>\n",
       "      <td>NaN</td>\n",
       "      <td>NaN</td>\n",
       "      <td>NaN</td>\n",
       "      <td>NaN</td>\n",
       "      <td>NaN</td>\n",
       "      <td>...</td>\n",
       "      <td>NaN</td>\n",
       "      <td>NaN</td>\n",
       "      <td>NaN</td>\n",
       "      <td>NaN</td>\n",
       "      <td>NaN</td>\n",
       "      <td>NaN</td>\n",
       "      <td>NaN</td>\n",
       "      <td>NaN</td>\n",
       "      <td>NaN</td>\n",
       "      <td>NaN</td>\n",
       "    </tr>\n",
       "    <tr>\n",
       "      <th>1</th>\n",
       "      <td>Precio Bolsa Nacional ($/kWh) 1995</td>\n",
       "      <td>NaN</td>\n",
       "      <td>NaN</td>\n",
       "      <td>NaN</td>\n",
       "      <td>NaN</td>\n",
       "      <td>NaN</td>\n",
       "      <td>NaN</td>\n",
       "      <td>NaN</td>\n",
       "      <td>NaN</td>\n",
       "      <td>NaN</td>\n",
       "      <td>...</td>\n",
       "      <td>NaN</td>\n",
       "      <td>NaN</td>\n",
       "      <td>NaN</td>\n",
       "      <td>NaN</td>\n",
       "      <td>NaN</td>\n",
       "      <td>NaN</td>\n",
       "      <td>NaN</td>\n",
       "      <td>NaN</td>\n",
       "      <td>NaN</td>\n",
       "      <td>NaN</td>\n",
       "    </tr>\n",
       "    <tr>\n",
       "      <th>2</th>\n",
       "      <td>NaN</td>\n",
       "      <td>NaN</td>\n",
       "      <td>NaN</td>\n",
       "      <td>NaN</td>\n",
       "      <td>NaN</td>\n",
       "      <td>NaN</td>\n",
       "      <td>NaN</td>\n",
       "      <td>NaN</td>\n",
       "      <td>NaN</td>\n",
       "      <td>NaN</td>\n",
       "      <td>...</td>\n",
       "      <td>NaN</td>\n",
       "      <td>NaN</td>\n",
       "      <td>NaN</td>\n",
       "      <td>NaN</td>\n",
       "      <td>NaN</td>\n",
       "      <td>NaN</td>\n",
       "      <td>NaN</td>\n",
       "      <td>NaN</td>\n",
       "      <td>NaN</td>\n",
       "      <td>NaN</td>\n",
       "    </tr>\n",
       "    <tr>\n",
       "      <th>3</th>\n",
       "      <td>Fecha</td>\n",
       "      <td>0</td>\n",
       "      <td>1.000</td>\n",
       "      <td>2.000</td>\n",
       "      <td>3.000</td>\n",
       "      <td>4.000</td>\n",
       "      <td>5.000</td>\n",
       "      <td>6.000</td>\n",
       "      <td>7.000</td>\n",
       "      <td>8.000</td>\n",
       "      <td>...</td>\n",
       "      <td>16.000</td>\n",
       "      <td>17.000</td>\n",
       "      <td>18.000</td>\n",
       "      <td>19.000</td>\n",
       "      <td>20.000</td>\n",
       "      <td>21.000</td>\n",
       "      <td>22.000</td>\n",
       "      <td>23.000</td>\n",
       "      <td>NaN</td>\n",
       "      <td>NaN</td>\n",
       "    </tr>\n",
       "    <tr>\n",
       "      <th>4</th>\n",
       "      <td>1995-07-20</td>\n",
       "      <td>NaN</td>\n",
       "      <td>1.073</td>\n",
       "      <td>1.073</td>\n",
       "      <td>1.073</td>\n",
       "      <td>1.073</td>\n",
       "      <td>1.073</td>\n",
       "      <td>1.073</td>\n",
       "      <td>1.073</td>\n",
       "      <td>1.074</td>\n",
       "      <td>...</td>\n",
       "      <td>1.073</td>\n",
       "      <td>1.073</td>\n",
       "      <td>1.074</td>\n",
       "      <td>1.897</td>\n",
       "      <td>1.897</td>\n",
       "      <td>1.897</td>\n",
       "      <td>1.073</td>\n",
       "      <td>1.073</td>\n",
       "      <td>NaN</td>\n",
       "      <td>NaN</td>\n",
       "    </tr>\n",
       "  </tbody>\n",
       "</table>\n",
       "<p>5 rows × 27 columns</p>\n",
       "</div>"
      ],
      "text/plain": [
       "                                   0    1      2      3      4      5      6   \\\n",
       "0                                 NaN  NaN    NaN    NaN    NaN    NaN    NaN   \n",
       "1  Precio Bolsa Nacional ($/kWh) 1995  NaN    NaN    NaN    NaN    NaN    NaN   \n",
       "2                                 NaN  NaN    NaN    NaN    NaN    NaN    NaN   \n",
       "3                               Fecha    0  1.000  2.000  3.000  4.000  5.000   \n",
       "4                          1995-07-20  NaN  1.073  1.073  1.073  1.073  1.073   \n",
       "\n",
       "      7      8      9  ...      17      18      19      20      21      22  \\\n",
       "0    NaN    NaN    NaN ...     NaN     NaN     NaN     NaN     NaN     NaN   \n",
       "1    NaN    NaN    NaN ...     NaN     NaN     NaN     NaN     NaN     NaN   \n",
       "2    NaN    NaN    NaN ...     NaN     NaN     NaN     NaN     NaN     NaN   \n",
       "3  6.000  7.000  8.000 ...  16.000  17.000  18.000  19.000  20.000  21.000   \n",
       "4  1.073  1.073  1.074 ...   1.073   1.073   1.074   1.897   1.897   1.897   \n",
       "\n",
       "       23      24   25  26  \n",
       "0     NaN     NaN  NaN NaN  \n",
       "1     NaN     NaN  NaN NaN  \n",
       "2     NaN     NaN  NaN NaN  \n",
       "3  22.000  23.000  NaN NaN  \n",
       "4   1.073   1.073  NaN NaN  \n",
       "\n",
       "[5 rows x 27 columns]"
      ]
     },
     "execution_count": 3,
     "metadata": {},
     "output_type": "execute_result"
    }
   ],
   "source": [
    "# cabecera de archivos\n",
    "archivos.head()"
   ]
  },
  {
   "cell_type": "code",
   "execution_count": 4,
   "metadata": {},
   "outputs": [],
   "source": [
    "## organizar archivos primera parte\n",
    "\n",
    "archivos = archivos[list(range(25))] # quitar columnas extras\n",
    "archivos = archivos[archivos[0].notnull()] # quitar nulos con respecto a la primera columna\n",
    "archivos = archivos[archivos[0] != 'Fecha'] # quitar registros que contenga \"Fecha\" en la primera columna\n",
    "archivos = archivos[archivos[0].str.contains('P')!=True] # quitar registros que contengan la letra \"P\" en la primera columna"
   ]
  },
  {
   "cell_type": "code",
   "execution_count": 5,
   "metadata": {},
   "outputs": [
    {
     "name": "stdout",
     "output_type": "stream",
     "text": [
      "           0      1      2      3      4      5      6      7      8      9   \\\n",
      "4  1995-07-20    NaN  1.073  1.073  1.073  1.073  1.073  1.073  1.073  1.074   \n",
      "5  1995-07-21  1.073  1.000  1.000  1.000  1.000  1.000  5.000  6.000  6.000   \n",
      "6  1995-07-22  1.073  1.073  1.000  1.000  1.000  1.073  1.303  1.303  1.303   \n",
      "7  1995-07-23  1.073  1.000  1.000  1.000  1.000  1.000  0.100  1.000  1.000   \n",
      "8  1995-07-24      1  1.000  0.990  1.000  1.000  1.073  3.000  3.000  3.000   \n",
      "\n",
      "   ...       15     16     17     18      19      20      21     22     23  \\\n",
      "4  ...    1.073  1.073  1.073  1.073   1.074   1.897   1.897  1.897  1.073   \n",
      "5  ...    5.000  1.000  1.000  5.000  12.000  16.670  11.929  5.000  1.000   \n",
      "6  ...    1.073  1.000  1.000  1.000   1.303   2.500   2.500  1.303  1.073   \n",
      "7  ...    1.000  0.100  0.100  1.000   1.238   1.238   1.238  1.238  1.073   \n",
      "8  ...    1.073  1.073  3.000  2.000  18.630  22.500   9.256  3.000  1.073   \n",
      "\n",
      "      24  \n",
      "4  1.073  \n",
      "5  1.000  \n",
      "6  1.073  \n",
      "7  1.000  \n",
      "8  1.000  \n",
      "\n",
      "[5 rows x 25 columns]\n",
      "(rows,cols) =  (8400, 25)\n"
     ]
    }
   ],
   "source": [
    "print(archivos.head()) # mostrar primeras filas\n",
    "print('(rows,cols) = ', archivos.shape) # mostrar tamano del dataframe "
   ]
  },
  {
   "cell_type": "code",
   "execution_count": 6,
   "metadata": {},
   "outputs": [],
   "source": [
    "# organizar archivos parte 2\n",
    "organizado = pd.melt(archivos, id_vars = 0) # pivotea el dataframe con clave la columna 0 y el resto como variables y valores\n",
    "organizado['variable'] = organizado['variable'].apply(lambda x: x-1) # cambia las horas para convertirlas de 1:24 a 0:23\n",
    "organizado = organizado.infer_objects() # automaticamente reconoce los tipos de la columna variable y value\n",
    "organizado = organizado.rename(index=str,columns={0:'fecha','variable':'hora','value':'precio'}) # renombre de las columnas\n",
    "organizado['fecha'] = pd.to_datetime(organizado['fecha']) # convierte la columna fecha en tipo de dato fecha"
   ]
  },
  {
   "cell_type": "code",
   "execution_count": 7,
   "metadata": {},
   "outputs": [
    {
     "name": "stdout",
     "output_type": "stream",
     "text": [
      "       fecha  hora  precio\n",
      "0 1995-07-20     0     NaN\n",
      "1 1995-07-21     0   1.073\n",
      "2 1995-07-22     0   1.073\n",
      "3 1995-07-23     0   1.073\n",
      "4 1995-07-24     0   1.000\n",
      "5 1995-07-25     0   0.990\n",
      "6 1995-07-26     0   0.500\n",
      "7 1995-07-27     0   0.500\n",
      "8 1995-07-28     0   0.000\n",
      "9 1995-07-29     0   1.000\n",
      "(rows,cols) =  (201600, 3)\n"
     ]
    }
   ],
   "source": [
    "print(organizado.head(10)) # mostrar primeras 10 filas \n",
    "print('(rows,cols) = ', organizado.shape) # mostrar tamano del dataframe"
   ]
  },
  {
   "cell_type": "markdown",
   "metadata": {},
   "source": [
    "**2.--** Compute e imprima el número de registros con datos faltantes."
   ]
  },
  {
   "cell_type": "code",
   "execution_count": 8,
   "metadata": {},
   "outputs": [
    {
     "data": {
      "text/plain": [
       "118"
      ]
     },
     "execution_count": 8,
     "metadata": {},
     "output_type": "execute_result"
    }
   ],
   "source": [
    "# se filtran nulos y valores en cero y contar el numero de registros\n",
    "sum(organizado['precio'].isna()) + sum(organizado['precio'] == 0)"
   ]
  },
  {
   "cell_type": "markdown",
   "metadata": {},
   "source": [
    "**3.--** Compute e imprima el número de registros duplicados."
   ]
  },
  {
   "cell_type": "code",
   "execution_count": 9,
   "metadata": {},
   "outputs": [
    {
     "data": {
      "text/plain": [
       "1759"
      ]
     },
     "execution_count": 9,
     "metadata": {},
     "output_type": "execute_result"
    }
   ],
   "source": [
    "# mostrar suma de registros duplicados\n",
    "sum(organizado.duplicated())"
   ]
  },
  {
   "cell_type": "markdown",
   "metadata": {},
   "source": [
    "**4.--** Elimine los registros con datos duplicados o datos faltantes, e imprima la cantidad de registros que quedan (registros completos)."
   ]
  },
  {
   "cell_type": "code",
   "execution_count": 10,
   "metadata": {},
   "outputs": [
    {
     "data": {
      "text/plain": [
       "199819"
      ]
     },
     "execution_count": 10,
     "metadata": {},
     "output_type": "execute_result"
    }
   ],
   "source": [
    "organizado = organizado[organizado.duplicated()==False] # elimina los registros duplicados\n",
    "organizado = organizado[organizado['precio'].isna() == False] # elimina los registros faltantes\n",
    "organizado['fecha'].count()"
   ]
  },
  {
   "cell_type": "code",
   "execution_count": 11,
   "metadata": {},
   "outputs": [
    {
     "data": {
      "text/plain": [
       "199723"
      ]
     },
     "execution_count": 11,
     "metadata": {},
     "output_type": "execute_result"
    }
   ],
   "source": [
    "# crea una copia del dataframe eliminando los valores en cero\n",
    "organizado2 = organizado[organizado['precio'] != 0].copy()\n",
    "organizado2['fecha'].count() # muestra los registros de este nuevo dataframe"
   ]
  },
  {
   "cell_type": "markdown",
   "metadata": {},
   "source": [
    "**5.--** Compute y grafique el precio primedio diario."
   ]
  },
  {
   "cell_type": "code",
   "execution_count": 12,
   "metadata": {},
   "outputs": [
    {
     "data": {
      "text/plain": [
       "fecha\n",
       "1     107.854329\n",
       "2     108.913259\n",
       "3     110.298928\n",
       "4     111.968630\n",
       "5     111.388790\n",
       "6     111.712212\n",
       "7     111.188443\n",
       "8     110.057708\n",
       "9     108.712296\n",
       "10    105.800706\n",
       "11    106.111738\n",
       "12    106.914213\n",
       "13    107.512270\n",
       "14    108.276894\n",
       "15    107.808577\n",
       "16    108.689072\n",
       "17    107.165993\n",
       "18    107.465735\n",
       "19    105.367401\n",
       "20    104.312990\n",
       "21    105.067687\n",
       "22    105.324493\n",
       "23    106.490087\n",
       "24    106.689323\n",
       "25    106.817565\n",
       "26    106.574071\n",
       "27    106.083161\n",
       "28    106.621820\n",
       "29    106.125771\n",
       "30    104.633796\n",
       "31    101.803295\n",
       "Name: precio, dtype: float64"
      ]
     },
     "execution_count": 12,
     "metadata": {},
     "output_type": "execute_result"
    }
   ],
   "source": [
    "# crear tabla de promedio diario con precios cero incluidos\n",
    "prom_diario = organizado.groupby(organizado['fecha'].dt.day).mean()['precio']\n",
    "prom_diario"
   ]
  },
  {
   "cell_type": "code",
   "execution_count": 13,
   "metadata": {},
   "outputs": [
    {
     "data": {
      "text/plain": [
       "fecha\n",
       "1     108.084436\n",
       "2     108.913259\n",
       "3     110.298928\n",
       "4     112.002694\n",
       "5     111.388790\n",
       "6     111.712212\n",
       "7     111.188443\n",
       "8     110.074508\n",
       "9     108.762096\n",
       "10    106.027260\n",
       "11    106.127935\n",
       "12    106.963189\n",
       "13    107.577946\n",
       "14    108.276894\n",
       "15    107.808577\n",
       "16    108.689072\n",
       "17    107.165993\n",
       "18    107.465735\n",
       "19    105.367401\n",
       "20    104.312990\n",
       "21    105.099651\n",
       "22    105.420680\n",
       "23    106.587353\n",
       "24    106.754259\n",
       "25    106.817565\n",
       "26    106.590280\n",
       "27    106.083161\n",
       "28    106.735438\n",
       "29    106.177422\n",
       "30    104.807779\n",
       "31    102.202524\n",
       "Name: precio, dtype: float64"
      ]
     },
     "execution_count": 13,
     "metadata": {},
     "output_type": "execute_result"
    }
   ],
   "source": [
    "# crear tabla de promedio diario con precios cero sin incluir\n",
    "prom_diario2 = organizado2.groupby(organizado2['fecha'].dt.day).mean()['precio']\n",
    "prom_diario2"
   ]
  },
  {
   "cell_type": "code",
   "execution_count": 14,
   "metadata": {},
   "outputs": [
    {
     "data": {
      "image/png": "[encoded data removed]",
      "text/plain": [
       "<Figure size 432x288 with 1 Axes>"
      ]
     },
     "metadata": {},
     "output_type": "display_data"
    }
   ],
   "source": [
    "# se grafica el precio promedio como linea de tiempo\n",
    "ax = prom_diario.plot.line()\n",
    "\n",
    "ax.set_xlabel('dia') # titulo del eje x\n",
    "ax.set_ylabel('precio_promedio') # titulo del eje y\n",
    "ax.set_title('Precio promedio por día'); # titulo general"
   ]
  },
  {
   "cell_type": "code",
   "execution_count": 15,
   "metadata": {},
   "outputs": [
    {
     "data": {
      "image/png": "[encoded data removed]",
      "text/plain": [
       "<Figure size 432x288 with 1 Axes>"
      ]
     },
     "metadata": {},
     "output_type": "display_data"
    }
   ],
   "source": [
    "# se grafica el precio promedio como linea de tiempo excluyendo los precios cero\n",
    "ax = prom_diario2.plot.line()\n",
    "\n",
    "ax.set_xlabel('dia') # titulo del eje x\n",
    "ax.set_ylabel('precio_promedio2') # titulo del eje y\n",
    "ax.set_title('Precio promedio por día'); # titulo general"
   ]
  },
  {
   "cell_type": "markdown",
   "metadata": {},
   "source": [
    "**6.--** Compute y grafique el precio máximo por mes."
   ]
  },
  {
   "cell_type": "code",
   "execution_count": 16,
   "metadata": {},
   "outputs": [
    {
     "data": {
      "text/plain": [
       "fecha\n",
       "1      865.477082\n",
       "2      869.442024\n",
       "3      884.836657\n",
       "4      807.500399\n",
       "5      686.494571\n",
       "6      474.110743\n",
       "7      445.329386\n",
       "8      441.242919\n",
       "9     1495.042973\n",
       "10    2821.520551\n",
       "11     823.069323\n",
       "12     840.227945\n",
       "Name: precio, dtype: float64"
      ]
     },
     "execution_count": 16,
     "metadata": {},
     "output_type": "execute_result"
    }
   ],
   "source": [
    "# crear tabla de maximo mensual con precios cero incluidos\n",
    "max_mes = organizado.groupby(organizado['fecha'].dt.month).max()['precio']\n",
    "max_mes"
   ]
  },
  {
   "cell_type": "code",
   "execution_count": 17,
   "metadata": {},
   "outputs": [
    {
     "data": {
      "text/plain": [
       "fecha\n",
       "1      865.477082\n",
       "2      869.442024\n",
       "3      884.836657\n",
       "4      807.500399\n",
       "5      686.494571\n",
       "6      474.110743\n",
       "7      445.329386\n",
       "8      441.242919\n",
       "9     1495.042973\n",
       "10    2821.520551\n",
       "11     823.069323\n",
       "12     840.227945\n",
       "Name: precio, dtype: float64"
      ]
     },
     "execution_count": 17,
     "metadata": {},
     "output_type": "execute_result"
    }
   ],
   "source": [
    "# crear tabla de maximo mensual con precios cero sin incluir\n",
    "max_mes2 = organizado2.groupby(organizado2['fecha'].dt.month).max()['precio']\n",
    "max_mes2"
   ]
  },
  {
   "cell_type": "code",
   "execution_count": 18,
   "metadata": {},
   "outputs": [
    {
     "data": {
      "image/png": "[encoded data removed]",
      "text/plain": [
       "<Figure size 432x288 with 1 Axes>"
      ]
     },
     "metadata": {},
     "output_type": "display_data"
    }
   ],
   "source": [
    "# se grafica el precio maximo por mes como barras con precio cero incluido\n",
    "ax = max_mes.plot.bar(colormap='prism')\n",
    "\n",
    "# se formatea el grafico\n",
    "ax.set_xlabel('mes') # titulo eje x\n",
    "ax.set_ylabel('precio_maximo') # titulo eje y\n",
    "ax.set_title ('Precio máximo por mes') # titulo general\n",
    "ax.set_xticklabels(['ene','feb','mar','abr','may','jun','jul','ago','sep','oct','nov','dic',], \n",
    "                  rotation = 'vertical'); # etiqueta datos eje x"
   ]
  },
  {
   "cell_type": "code",
   "execution_count": 19,
   "metadata": {},
   "outputs": [
    {
     "data": {
      "image/png": "[encoded data removed]",
      "text/plain": [
       "<Figure size 432x288 with 1 Axes>"
      ]
     },
     "metadata": {},
     "output_type": "display_data"
    }
   ],
   "source": [
    "# se grafica el precio maximo por mes como barras con precio cero sin incluir\n",
    "ax = max_mes2.plot.bar(colormap='prism')\n",
    "\n",
    "# se formatea el grafico\n",
    "ax.set_xlabel('mes') # titulo eje x\n",
    "ax.set_ylabel('precio_maximo2') # titulo eje y\n",
    "ax.set_title ('Precio máximo por mes') # titulo general\n",
    "ax.set_xticklabels(['ene','feb','mar','abr','may','jun','jul','ago','sep','oct','nov','dic',], \n",
    "                  rotation = 'vertical'); # etiqueta datos eje x"
   ]
  },
  {
   "cell_type": "markdown",
   "metadata": {},
   "source": [
    "**7.--** Compute y grafique el precio mínimo mensual."
   ]
  },
  {
   "cell_type": "code",
   "execution_count": 20,
   "metadata": {},
   "outputs": [
    {
     "data": {
      "text/plain": [
       "fecha\n",
       "1     1.073\n",
       "2     1.076\n",
       "3     1.255\n",
       "4     1.254\n",
       "5     0.000\n",
       "6     0.000\n",
       "7     0.000\n",
       "8     0.000\n",
       "9     1.073\n",
       "10    0.000\n",
       "11    1.072\n",
       "12    1.074\n",
       "Name: precio, dtype: float64"
      ]
     },
     "execution_count": 20,
     "metadata": {},
     "output_type": "execute_result"
    }
   ],
   "source": [
    "# crear tabla de minimo mensual con precios cero incluidos\n",
    "min_mes = organizado.groupby(organizado['fecha'].dt.month).min()['precio']\n",
    "min_mes"
   ]
  },
  {
   "cell_type": "code",
   "execution_count": 21,
   "metadata": {},
   "outputs": [
    {
     "data": {
      "text/plain": [
       "fecha\n",
       "1     1.073\n",
       "2     1.076\n",
       "3     1.255\n",
       "4     1.254\n",
       "5     1.000\n",
       "6     1.000\n",
       "7     0.100\n",
       "8     0.400\n",
       "9     1.073\n",
       "10    0.500\n",
       "11    1.072\n",
       "12    1.074\n",
       "Name: precio, dtype: float64"
      ]
     },
     "execution_count": 21,
     "metadata": {},
     "output_type": "execute_result"
    }
   ],
   "source": [
    "# crear tabla de minimo mensual con precios cero sin incluir\n",
    "min_mes2 = organizado2.groupby(organizado2['fecha'].dt.month).min()['precio']\n",
    "min_mes2"
   ]
  },
  {
   "cell_type": "code",
   "execution_count": 22,
   "metadata": {},
   "outputs": [
    {
     "data": {
      "image/png": "[encoded data removed]",
      "text/plain": [
       "<Figure size 432x288 with 1 Axes>"
      ]
     },
     "metadata": {},
     "output_type": "display_data"
    }
   ],
   "source": [
    "# se grafica el precio minimo por mes como barras\n",
    "ax = min_mes.plot.bar(colormap='prism')\n",
    "\n",
    "# se formatea el grafico\n",
    "ax.set_xlabel('mes') # titulo eje x\n",
    "ax.set_ylabel('precio_minimo') # titulo eje y\n",
    "ax.set_title ('Precio mínimo por mes') # titulo general\n",
    "ax.set_xticklabels(['ene','feb','mar','abr','may','jun','jul','ago','sep','oct','nov','dic',], \n",
    "                  rotation = 'vertical'); # etiqueta datos eje x"
   ]
  },
  {
   "cell_type": "code",
   "execution_count": 23,
   "metadata": {},
   "outputs": [
    {
     "data": {
      "image/png": "[encoded data removed]",
      "text/plain": [
       "<Figure size 432x288 with 1 Axes>"
      ]
     },
     "metadata": {},
     "output_type": "display_data"
    }
   ],
   "source": [
    "# se grafica el precio minimo por mes como barras\n",
    "ax = min_mes2.plot.bar(colormap='prism')\n",
    "\n",
    "# se formatea el grafico\n",
    "ax.set_xlabel('mes') # titulo eje x\n",
    "ax.set_ylabel('precio_minimo2') # titulo eje y\n",
    "ax.set_title ('Precio mínimo por mes') # titulo general\n",
    "ax.set_xticklabels(['ene','feb','mar','abr','may','jun','jul','ago','sep','oct','nov','dic',], \n",
    "                  rotation = 'vertical'); # etiqueta datos eje x"
   ]
  },
  {
   "cell_type": "markdown",
   "metadata": {},
   "source": [
    "**8.--** Haga un gráfico para comparar el precio máximo del mes (para cada mes) y el precio promedio mensual."
   ]
  },
  {
   "cell_type": "code",
   "execution_count": 24,
   "metadata": {},
   "outputs": [
    {
     "data": {
      "text/html": [
       "<div>\n",
       "<style scoped>\n",
       "    .dataframe tbody tr th:only-of-type {\n",
       "        vertical-align: middle;\n",
       "    }\n",
       "\n",
       "    .dataframe tbody tr th {\n",
       "        vertical-align: top;\n",
       "    }\n",
       "\n",
       "    .dataframe thead th {\n",
       "        text-align: right;\n",
       "    }\n",
       "</style>\n",
       "<table border=\"1\" class=\"dataframe\">\n",
       "  <thead>\n",
       "    <tr style=\"text-align: right;\">\n",
       "      <th></th>\n",
       "      <th>precio_maximo</th>\n",
       "      <th>precio_promedio</th>\n",
       "    </tr>\n",
       "    <tr>\n",
       "      <th>fecha</th>\n",
       "      <th></th>\n",
       "      <th></th>\n",
       "    </tr>\n",
       "  </thead>\n",
       "  <tbody>\n",
       "    <tr>\n",
       "      <th>1</th>\n",
       "      <td>865.477082</td>\n",
       "      <td>111.924490</td>\n",
       "    </tr>\n",
       "    <tr>\n",
       "      <th>2</th>\n",
       "      <td>869.442024</td>\n",
       "      <td>125.139288</td>\n",
       "    </tr>\n",
       "    <tr>\n",
       "      <th>3</th>\n",
       "      <td>884.836657</td>\n",
       "      <td>125.732944</td>\n",
       "    </tr>\n",
       "    <tr>\n",
       "      <th>4</th>\n",
       "      <td>807.500399</td>\n",
       "      <td>106.910424</td>\n",
       "    </tr>\n",
       "    <tr>\n",
       "      <th>5</th>\n",
       "      <td>686.494571</td>\n",
       "      <td>91.602250</td>\n",
       "    </tr>\n",
       "    <tr>\n",
       "      <th>6</th>\n",
       "      <td>474.110743</td>\n",
       "      <td>83.849155</td>\n",
       "    </tr>\n",
       "    <tr>\n",
       "      <th>7</th>\n",
       "      <td>445.329386</td>\n",
       "      <td>79.269063</td>\n",
       "    </tr>\n",
       "    <tr>\n",
       "      <th>8</th>\n",
       "      <td>441.242919</td>\n",
       "      <td>83.978671</td>\n",
       "    </tr>\n",
       "    <tr>\n",
       "      <th>9</th>\n",
       "      <td>1495.042973</td>\n",
       "      <td>107.400101</td>\n",
       "    </tr>\n",
       "    <tr>\n",
       "      <th>10</th>\n",
       "      <td>2821.520551</td>\n",
       "      <td>143.987609</td>\n",
       "    </tr>\n",
       "    <tr>\n",
       "      <th>11</th>\n",
       "      <td>823.069323</td>\n",
       "      <td>117.853836</td>\n",
       "    </tr>\n",
       "    <tr>\n",
       "      <th>12</th>\n",
       "      <td>840.227945</td>\n",
       "      <td>111.100854</td>\n",
       "    </tr>\n",
       "  </tbody>\n",
       "</table>\n",
       "</div>"
      ],
      "text/plain": [
       "       precio_maximo  precio_promedio\n",
       "fecha                                \n",
       "1         865.477082       111.924490\n",
       "2         869.442024       125.139288\n",
       "3         884.836657       125.732944\n",
       "4         807.500399       106.910424\n",
       "5         686.494571        91.602250\n",
       "6         474.110743        83.849155\n",
       "7         445.329386        79.269063\n",
       "8         441.242919        83.978671\n",
       "9        1495.042973       107.400101\n",
       "10       2821.520551       143.987609\n",
       "11        823.069323       117.853836\n",
       "12        840.227945       111.100854"
      ]
     },
     "execution_count": 24,
     "metadata": {},
     "output_type": "execute_result"
    }
   ],
   "source": [
    "# se crea un data frame que tenga los dos valores solicitados\n",
    "mes = organizado.groupby(organizado['fecha'].dt.month).agg(['max','mean'])['precio']\n",
    "mes = mes.rename(index=str,columns={'max':'precio_maximo','mean':'precio_promedio'}) # se renombran las columnas\n",
    "\n",
    "# vista del dataframe\n",
    "mes"
   ]
  },
  {
   "cell_type": "code",
   "execution_count": 25,
   "metadata": {},
   "outputs": [
    {
     "data": {
      "image/png": "[encoded data removed]",
      "text/plain": [
       "<Figure size 432x288 with 1 Axes>"
      ]
     },
     "metadata": {},
     "output_type": "display_data"
    }
   ],
   "source": [
    "# se grafican ambos datos como linea de tiempo\n",
    "ax = mes.plot.line()\n",
    "\n",
    "# se formatea el grafico\n",
    "ax.set_xlabel('mes') # titulo eje x\n",
    "ax.set_xticks(range(13)) # valores eje x\n",
    "ax.set_ylabel('precio_maximo') # titulo eje y\n",
    "ax.set_xticklabels(['ene','feb','mar','abr','may','jun','jul','ago','sep','oct','nov','dic',], \n",
    "                  rotation = 'vertical') # etiqueta datos eje x\n",
    "ax.set_title('Comparativo entre precio máximo y precio promedio por mes');"
   ]
  },
  {
   "cell_type": "markdown",
   "metadata": {},
   "source": [
    "**9.--** Haga un histograma que muestre a que horas se produce el máximo precio diario para los días laborales."
   ]
  },
  {
   "cell_type": "code",
   "execution_count": 26,
   "metadata": {},
   "outputs": [],
   "source": [
    "# se agrega el dia de la semana y el nombre del dia a los dataframes\n",
    "organizado['nombredia'] = organizado['fecha'].dt.day_name()\n",
    "organizado['numerodia'] = organizado['fecha'].dt.weekday\n",
    "organizado2['nombredia'] = organizado2['fecha'].dt.day_name()\n",
    "organizado2['numerodia'] = organizado2['fecha'].dt.weekday"
   ]
  },
  {
   "cell_type": "code",
   "execution_count": 27,
   "metadata": {},
   "outputs": [],
   "source": [
    "# se crea una tabla que contenga todos los precio maximo por dia \n",
    "max_precio = organizado2.groupby('fecha').max()['precio']\n",
    "\n",
    "# se crea un contenedor de dataframes vacios para ir agregando los datos de los precios maximos\n",
    "max_precio_df = pd.DataFrame()\n",
    "\n",
    "# se crea el iterador\n",
    "for i in range(len(max_precio)):\n",
    "    \n",
    "    max_precio_df = pd.concat([max_precio_df,\n",
    "                               # con el siguiente comando se filtra el dataframe incluyendo las fechas\n",
    "                               organizado2[(organizado2['fecha'] == max_precio.index[i]) & \n",
    "                                           (organizado2['precio'] == max_precio[i])][['fecha','hora','precio','nombredia']]\n",
    "                              ],\n",
    "                              ignore_index = True\n",
    "                             )\n",
    "\n",
    "# se filtra por los valores de semana\n",
    "max_precio2 = max_precio_df[(max_precio_df['nombredia'] != 'Saturday') & (max_precio_df['nombredia'] != 'Sunday')]"
   ]
  },
  {
   "cell_type": "code",
   "execution_count": 37,
   "metadata": {},
   "outputs": [
    {
     "data": {
      "image/png": "[encoded data removed]",
      "text/plain": [
       "<Figure size 1080x360 with 1 Axes>"
      ]
     },
     "metadata": {},
     "output_type": "display_data"
    }
   ],
   "source": [
    "# se crea el grafico, se establece el numero de barras del histograma y el color del borde\n",
    "fig = plt.hist(max_precio2['hora'],bins = 24, range = (0,24), align = 'left', edgecolor = 'w')\n",
    "\n",
    "# se formatea el grafico\n",
    "plt.xticks(range(23)) # ajustar eje x\n",
    "plt.xlabel('hora') # titulo eje x\n",
    "plt.ylabel('Ocurrencias de precio máximo en una hora') # titulo eje y\n",
    "plt.title('Hora del precio máximo entre los días lunes a viernes') # titulo general\n",
    "plt.rcParams['figure.figsize'] = [15,5] # tamano del grafico\n",
    "plt.text(11,4800, 'Hora de mayores precios máximo: 19', fontsize = 12, alpha = 0.5); # ajuste de texto explicativo"
   ]
  },
  {
   "cell_type": "markdown",
   "metadata": {},
   "source": [
    "**10.--** Haga un histograma que muestre a que horas se produce el máximo precio diario para los días sabado."
   ]
  },
  {
   "cell_type": "code",
   "execution_count": 29,
   "metadata": {},
   "outputs": [],
   "source": [
    "# crear dataframe que contenga solo el dia sabado y sus precios maximos por hora\n",
    "dia_sab = max_precio_df[(max_precio_df['nombredia'] == 'Saturday')]"
   ]
  },
  {
   "cell_type": "code",
   "execution_count": 30,
   "metadata": {},
   "outputs": [
    {
     "data": {
      "image/png": "[encoded data removed]",
      "text/plain": [
       "<Figure size 1080x360 with 1 Axes>"
      ]
     },
     "metadata": {},
     "output_type": "display_data"
    }
   ],
   "source": [
    "# crear grafico\n",
    "fig = plt.hist(dia_sab['hora'],bins = 24, range = (0,24), align = 'left', edgecolor = 'w')\n",
    "\n",
    "# se formatea el grafico\n",
    "plt.xticks(range(23)) # ajustar eje x\n",
    "plt.xlabel('hora') # titulo eje x\n",
    "plt.ylabel('Ocurrencias de precio maximo en una hora') # titulo eje y\n",
    "plt.title('Hora del precio máximo los sábados') # titulo general\n",
    "plt.rcParams['figure.figsize'] = [15,5] # tamano del grafico\n",
    "plt.text(7,1000, 'Hora de mayores precios máximo: 19', fontsize = 12, alpha = 0.5); # ajuste de texto explicativo"
   ]
  },
  {
   "cell_type": "markdown",
   "metadata": {},
   "source": [
    "**11.--** Haga un histograma que muestre a que horas se produce el máximo precio diario para los días domingo."
   ]
  },
  {
   "cell_type": "code",
   "execution_count": 31,
   "metadata": {},
   "outputs": [],
   "source": [
    "# crear dataframe que contenga solo el dia sabado y sus precios maximos por hora\n",
    "dia_dom = max_precio_df[(max_precio_df['nombredia'] == 'Sunday')]"
   ]
  },
  {
   "cell_type": "code",
   "execution_count": 32,
   "metadata": {},
   "outputs": [
    {
     "data": {
      "image/png": "[encoded data removed]",
      "text/plain": [
       "<Figure size 1080x360 with 1 Axes>"
      ]
     },
     "metadata": {},
     "output_type": "display_data"
    }
   ],
   "source": [
    "# crear grafico\n",
    "fig = plt.hist(dia_dom['hora'],bins = 24, range = (0,24), align = 'left', edgecolor = 'w')\n",
    "\n",
    "# se formatea el grafico\n",
    "plt.xticks(range(23)) # ajustar eje x\n",
    "plt.xlabel('hora') # titulo eje x\n",
    "plt.ylabel('Ocurrencias de precio maximo en una hora') # titulo eje y\n",
    "plt.title('Hora del precio máximo los domingos') # titulo general\n",
    "plt.rcParams['figure.figsize'] = [15,5] # tamano del grafico\n",
    "plt.text(7,1000, 'Hora de mayores precios máximo: 19', fontsize = 12, alpha = 0.5); # ajuste de texto explicativo"
   ]
  },
  {
   "cell_type": "markdown",
   "metadata": {},
   "source": [
    "**12.--** Imprima una tabla con la fecha y el valor más bajo por año del precio de bolsa."
   ]
  },
  {
   "cell_type": "code",
   "execution_count": 33,
   "metadata": {},
   "outputs": [],
   "source": [
    "# crear tabla de precios minimos eliminando los ceros, agrupada por anio\n",
    "min_precio = organizado2.groupby(organizado2['fecha'].dt.year).min()['precio']\n",
    "\n",
    "# se crea un contenedor de dataframes vacios para ir agregando las fechas de los precios minimos\n",
    "min_precio_df = pd.DataFrame()\n",
    "\n",
    "# se crea el iterador\n",
    "for i in range(24):\n",
    "    \n",
    "    min_precio_df = pd.concat([min_precio_df,\n",
    "                               # con el siguiente comando se filtra el dataframe incluyendo las fechas\n",
    "                               organizado2[(organizado2['precio']==list(min_precio)[i]) & \n",
    "                                          (organizado2['fecha'].dt.year==min_precio.index[i])][['fecha','precio']][0:1]\n",
    "                              ],\n",
    "                              ignore_index = True\n",
    "                             )"
   ]
  },
  {
   "cell_type": "code",
   "execution_count": 34,
   "metadata": {},
   "outputs": [
    {
     "data": {
      "text/html": [
       "<div>\n",
       "<style scoped>\n",
       "    .dataframe tbody tr th:only-of-type {\n",
       "        vertical-align: middle;\n",
       "    }\n",
       "\n",
       "    .dataframe tbody tr th {\n",
       "        vertical-align: top;\n",
       "    }\n",
       "\n",
       "    .dataframe thead th {\n",
       "        text-align: right;\n",
       "    }\n",
       "</style>\n",
       "<table border=\"1\" class=\"dataframe\">\n",
       "  <thead>\n",
       "    <tr style=\"text-align: right;\">\n",
       "      <th></th>\n",
       "      <th>fecha</th>\n",
       "      <th>precio</th>\n",
       "      <th>anio</th>\n",
       "    </tr>\n",
       "  </thead>\n",
       "  <tbody>\n",
       "    <tr>\n",
       "      <th>0</th>\n",
       "      <td>1995-07-23</td>\n",
       "      <td>0.100000</td>\n",
       "      <td>1995</td>\n",
       "    </tr>\n",
       "    <tr>\n",
       "      <th>1</th>\n",
       "      <td>1996-07-24</td>\n",
       "      <td>0.700000</td>\n",
       "      <td>1996</td>\n",
       "    </tr>\n",
       "    <tr>\n",
       "      <th>2</th>\n",
       "      <td>1997-07-15</td>\n",
       "      <td>10.882310</td>\n",
       "      <td>1997</td>\n",
       "    </tr>\n",
       "    <tr>\n",
       "      <th>3</th>\n",
       "      <td>1998-07-12</td>\n",
       "      <td>13.847330</td>\n",
       "      <td>1998</td>\n",
       "    </tr>\n",
       "    <tr>\n",
       "      <th>4</th>\n",
       "      <td>1999-03-28</td>\n",
       "      <td>18.359530</td>\n",
       "      <td>1999</td>\n",
       "    </tr>\n",
       "    <tr>\n",
       "      <th>5</th>\n",
       "      <td>2000-03-25</td>\n",
       "      <td>21.531167</td>\n",
       "      <td>2000</td>\n",
       "    </tr>\n",
       "    <tr>\n",
       "      <th>6</th>\n",
       "      <td>2001-08-20</td>\n",
       "      <td>24.822879</td>\n",
       "      <td>2001</td>\n",
       "    </tr>\n",
       "    <tr>\n",
       "      <th>7</th>\n",
       "      <td>2002-04-29</td>\n",
       "      <td>26.777682</td>\n",
       "      <td>2002</td>\n",
       "    </tr>\n",
       "    <tr>\n",
       "      <th>8</th>\n",
       "      <td>2003-02-14</td>\n",
       "      <td>37.013438</td>\n",
       "      <td>2003</td>\n",
       "    </tr>\n",
       "    <tr>\n",
       "      <th>9</th>\n",
       "      <td>2004-03-29</td>\n",
       "      <td>32.252998</td>\n",
       "      <td>2004</td>\n",
       "    </tr>\n",
       "    <tr>\n",
       "      <th>10</th>\n",
       "      <td>2005-10-04</td>\n",
       "      <td>27.581415</td>\n",
       "      <td>2005</td>\n",
       "    </tr>\n",
       "    <tr>\n",
       "      <th>11</th>\n",
       "      <td>2006-10-17</td>\n",
       "      <td>26.714797</td>\n",
       "      <td>2006</td>\n",
       "    </tr>\n",
       "    <tr>\n",
       "      <th>12</th>\n",
       "      <td>2007-05-03</td>\n",
       "      <td>30.173824</td>\n",
       "      <td>2007</td>\n",
       "    </tr>\n",
       "    <tr>\n",
       "      <th>13</th>\n",
       "      <td>2008-05-26</td>\n",
       "      <td>29.199135</td>\n",
       "      <td>2008</td>\n",
       "    </tr>\n",
       "    <tr>\n",
       "      <th>14</th>\n",
       "      <td>2009-12-22</td>\n",
       "      <td>32.892503</td>\n",
       "      <td>2009</td>\n",
       "    </tr>\n",
       "    <tr>\n",
       "      <th>15</th>\n",
       "      <td>2010-07-12</td>\n",
       "      <td>32.024957</td>\n",
       "      <td>2010</td>\n",
       "    </tr>\n",
       "    <tr>\n",
       "      <th>16</th>\n",
       "      <td>2011-06-06</td>\n",
       "      <td>33.291100</td>\n",
       "      <td>2011</td>\n",
       "    </tr>\n",
       "    <tr>\n",
       "      <th>17</th>\n",
       "      <td>2012-04-29</td>\n",
       "      <td>34.988099</td>\n",
       "      <td>2012</td>\n",
       "    </tr>\n",
       "    <tr>\n",
       "      <th>18</th>\n",
       "      <td>2013-01-09</td>\n",
       "      <td>40.415346</td>\n",
       "      <td>2013</td>\n",
       "    </tr>\n",
       "    <tr>\n",
       "      <th>19</th>\n",
       "      <td>2014-01-11</td>\n",
       "      <td>38.941951</td>\n",
       "      <td>2014</td>\n",
       "    </tr>\n",
       "    <tr>\n",
       "      <th>20</th>\n",
       "      <td>2015-01-06</td>\n",
       "      <td>46.791501</td>\n",
       "      <td>2015</td>\n",
       "    </tr>\n",
       "    <tr>\n",
       "      <th>21</th>\n",
       "      <td>2016-12-09</td>\n",
       "      <td>61.100689</td>\n",
       "      <td>2016</td>\n",
       "    </tr>\n",
       "    <tr>\n",
       "      <th>22</th>\n",
       "      <td>2017-03-28</td>\n",
       "      <td>60.312095</td>\n",
       "      <td>2017</td>\n",
       "    </tr>\n",
       "    <tr>\n",
       "      <th>23</th>\n",
       "      <td>2018-04-06</td>\n",
       "      <td>61.457224</td>\n",
       "      <td>2018</td>\n",
       "    </tr>\n",
       "  </tbody>\n",
       "</table>\n",
       "</div>"
      ],
      "text/plain": [
       "        fecha     precio  anio\n",
       "0  1995-07-23   0.100000  1995\n",
       "1  1996-07-24   0.700000  1996\n",
       "2  1997-07-15  10.882310  1997\n",
       "3  1998-07-12  13.847330  1998\n",
       "4  1999-03-28  18.359530  1999\n",
       "5  2000-03-25  21.531167  2000\n",
       "6  2001-08-20  24.822879  2001\n",
       "7  2002-04-29  26.777682  2002\n",
       "8  2003-02-14  37.013438  2003\n",
       "9  2004-03-29  32.252998  2004\n",
       "10 2005-10-04  27.581415  2005\n",
       "11 2006-10-17  26.714797  2006\n",
       "12 2007-05-03  30.173824  2007\n",
       "13 2008-05-26  29.199135  2008\n",
       "14 2009-12-22  32.892503  2009\n",
       "15 2010-07-12  32.024957  2010\n",
       "16 2011-06-06  33.291100  2011\n",
       "17 2012-04-29  34.988099  2012\n",
       "18 2013-01-09  40.415346  2013\n",
       "19 2014-01-11  38.941951  2014\n",
       "20 2015-01-06  46.791501  2015\n",
       "21 2016-12-09  61.100689  2016\n",
       "22 2017-03-28  60.312095  2017\n",
       "23 2018-04-06  61.457224  2018"
      ]
     },
     "execution_count": 34,
     "metadata": {},
     "output_type": "execute_result"
    }
   ],
   "source": [
    "# se crea la columna anio y se visualiza la tabla\n",
    "min_precio_df['anio'] = min_precio_df['fecha'].dt.year\n",
    "min_precio_df"
   ]
  },
  {
   "cell_type": "markdown",
   "metadata": {},
   "source": [
    "**13.--** Haga una gráfica en que se muestre el precio promedio diario y el precio promedio mensual."
   ]
  },
  {
   "cell_type": "code",
   "execution_count": 35,
   "metadata": {},
   "outputs": [
    {
     "name": "stdout",
     "output_type": "stream",
     "text": [
      "0    111.92449\n",
      "1    111.92449\n",
      "2    111.92449\n",
      "3    111.92449\n",
      "4    111.92449\n",
      "dtype: float64\n",
      "361    111.098455\n",
      "362    111.098455\n",
      "363    111.098455\n",
      "364    111.098455\n",
      "365    111.098455\n",
      "dtype: float64\n"
     ]
    }
   ],
   "source": [
    "# se prepara la informacion\n",
    "organizado2['dia'] = organizado2['fecha'].dt.day\n",
    "\n",
    "# se crea el promedio diario por mes\n",
    "promedio = organizado2.groupby([organizado2['fecha'].dt.month,'dia']).mean()['precio']\n",
    "\n",
    "# se crea el promedio mensual y se ajusta a cada dia del anio\n",
    "mes_serie = pd.Series()\n",
    "for i in range(12):\n",
    "    \n",
    "    mes_serie = mes_serie.append(pd.Series([promedio.unstack().T.mean()[i+1]]*sum(promedio.unstack().T[i+1].isna()!=True)), \n",
    "                                 ignore_index = True)\n",
    "\n",
    "# se muestra la cabecera del mes\n",
    "print(mes_serie.head())\n",
    "print(mes_serie.tail())"
   ]
  },
  {
   "cell_type": "code",
   "execution_count": 36,
   "metadata": {},
   "outputs": [
    {
     "data": {
      "image/png": "[encoded data removed]",
      "text/plain": [
       "<Figure size 1080x360 with 1 Axes>"
      ]
     },
     "metadata": {},
     "output_type": "display_data"
    }
   ],
   "source": [
    "# se crean contenedores de los rangos de dias en los que se mueve cada mes\n",
    "dias = [0,]\n",
    "dias2 = 0\n",
    "\n",
    "# se crea el iterador\n",
    "for i in range(12):\n",
    "    \n",
    "    dias2 += (sum(promedio.unstack().T[i+1].isna()!=True))\n",
    "    dias.append(dias2)\n",
    "\n",
    "# se grafica  lo solicitado\n",
    "promedio.plot() # promedio diario\n",
    "mes_serie.plot() # promedio mensual\n",
    "\n",
    "# se formatea el grafico\n",
    "plt.title('Precio promedio diario y mensual') # titulo general\n",
    "plt.xlabel('Día-Mes') # titulo eje x\n",
    "plt.ylabel('Precio') # titulo eje y\n",
    "plt.xticks(dias[:-1],\n",
    "           ['01 ene','01 feb','01 mar','01 abr','01 may','01 jun','01 jul','01 ago','01 sep','01 oct','01 nov','01 dic',]\n",
    "          ) # se ajusta el eje y\n",
    "plt.grid(b = True, which = 'major', axis = 'x', alpha = 0.3, linestyle = '--') # se agrega una linea para indicar inicio de mes\n",
    "plt.legend(['Promedio diario','Promedio mensual']); # se agrega la leyenda"
   ]
  },
  {
   "cell_type": "markdown",
   "metadata": {},
   "source": [
    "# Documentación\n",
    "\n",
    "https://stackoverflow.com/questions/9969677/why-are-the-axes-switched-on-my-pyplot-histogram\n",
    "https://matplotlib.org/3.1.0/gallery/pyplots/pyplot_text.html#sphx-glr-gallery-pyplots-pyplot-text-py\n",
    "https://jdvelasq.github.io/ciencia-de-los-datos/docs/python/visualizacion-de-datos-usando-matplotlib.html\n",
    "https://matplotlib.org/3.1.0/api/_as_gen/matplotlib.pyplot.hist.html\n",
    "https://stackoverflow.com/questions/12096252/use-a-list-of-values-to-select-rows-from-a-pandas-dataframe\n",
    "https://stackoverflow.com/questions/12444716/how-do-i-set-the-figure-title-and-axes-labels-font-size-in-matplotlib\n",
    "https://matplotlib.org/3.1.0/api/_as_gen/matplotlib.axes.Axes.set_title.html\n",
    "https://stackoverflow.com/questions/332289/how-do-you-change-the-size-of-figures-drawn-with-matplotlib\n",
    "https://stackoverflow.com/questions/51080491/matplotlib-how-to-change-figsize-for-double-bar-plot\n",
    "https://matplotlib.org/3.1.0/api/_as_gen/matplotlib.axes.Axes.text.html\n",
    "https://stackoverflow.com/questions/17109608/change-figure-size-and-figure-format-in-matplotlib/17109830\n",
    "https://matplotlib.org/3.1.0/api/_as_gen/matplotlib.patches.Patch.html#matplotlib.patches.Patch\n",
    "https://pandas.pydata.org/pandas-docs/stable/reference/api/pandas.Series.html\n",
    "https://pandas.pydata.org/pandas-docs/stable/reference/api/pandas.Series.append.html\n",
    "https://matplotlib.org/3.1.0/api/_as_gen/matplotlib.pyplot.legend.html\n",
    "https://matplotlib.org/3.1.0/api/_as_gen/matplotlib.pyplot.grid.html\n",
    "https://matplotlib.org/3.1.0/api/_as_gen/matplotlib.pyplot.xticks.html"
   ]
  }
 ],
 "metadata": {
  "anaconda-cloud": {},
  "kernel_info": {
   "name": "python3"
  },
  "kernelspec": {
   "display_name": "Python 3",
   "language": "python",
   "name": "python3"
  },
  "language_info": {
   "codemirror_mode": {
    "name": "ipython",
    "version": 3
   },
   "file_extension": ".py",
   "mimetype": "text/x-python",
   "name": "python",
   "nbconvert_exporter": "python",
   "pygments_lexer": "ipython3",
   "version": "3.6.5"
  },
  "nteract": {
   "version": "0.7.1"
  }
 },
 "nbformat": 4,
 "nbformat_minor": 2
}
